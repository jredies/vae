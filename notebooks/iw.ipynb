{
 "cells": [
  {
   "cell_type": "code",
   "execution_count": 3,
   "id": "71e2340f-48cd-4ddc-8fd8-cd16645223f3",
   "metadata": {},
   "outputs": [],
   "source": [
    "import pandas as pd"
   ]
  },
  {
   "cell_type": "code",
   "execution_count": 23,
   "id": "74f10c32-7943-446e-b554-2bd80dc45afb",
   "metadata": {},
   "outputs": [
    {
     "name": "stdout",
     "output_type": "stream",
     "text": [
      "best_model_gamma_0.1.csv     cnn_best_model_gamma_0.1.csv\n",
      "best_model_gamma_0.25.csv    cnn_best_model_gamma_1.0.csv\n",
      "best_model_gamma_0.5.csv     iw_base_0.csv\n",
      "best_model_gamma_0.75.csv    iw_base_10.csv\n",
      "best_model_gamma_0.9.csv     iw_base_3.csv\n",
      "best_model_gamma_1.0.csv     iw_cnn_0.csv\n",
      "best_model_spec_False.csv    iw_cnn_10.csv\n",
      "best_model_spec_True.csv     iw_cnn_3.csv\n"
     ]
    }
   ],
   "source": [
    "!ls ../outputs/reg/output"
   ]
  },
  {
   "cell_type": "code",
   "execution_count": 28,
   "id": "f7281609-19fa-414c-898b-2d29df4cd14b",
   "metadata": {},
   "outputs": [],
   "source": [
    "iw_0 = pd.read_csv(\"../outputs/reg/output/iw_base_0.csv\").iloc[-1]\n",
    "iw_3 = pd.read_csv(\"../outputs/reg/output/iw_base_3.csv\").iloc[-1]\n",
    "iw_10 = pd.read_csv(\"../outputs/reg/output/iw_base_10.csv\").iloc[-1]\n",
    "\n",
    "\n",
    "df = pd.DataFrame({'vae': iw_0,\n",
    "              'IW k=3': iw_3,\n",
    "              'IW k=10': iw_10,\n",
    "             }).iloc[4:-1]\n",
    "\n",
    "df.to_csv('vector_model.csv')"
   ]
  },
  {
   "cell_type": "code",
   "execution_count": 29,
   "id": "55adfb99-38a8-4ce3-825f-5e40c5b2fc36",
   "metadata": {},
   "outputs": [
    {
     "data": {
      "text/html": [
       "<div>\n",
       "<style scoped>\n",
       "    .dataframe tbody tr th:only-of-type {\n",
       "        vertical-align: middle;\n",
       "    }\n",
       "\n",
       "    .dataframe tbody tr th {\n",
       "        vertical-align: top;\n",
       "    }\n",
       "\n",
       "    .dataframe thead th {\n",
       "        text-align: right;\n",
       "    }\n",
       "</style>\n",
       "<table border=\"1\" class=\"dataframe\">\n",
       "  <thead>\n",
       "    <tr style=\"text-align: right;\">\n",
       "      <th></th>\n",
       "      <th>vae</th>\n",
       "      <th>IW k=3</th>\n",
       "      <th>IW k=10</th>\n",
       "    </tr>\n",
       "  </thead>\n",
       "  <tbody>\n",
       "    <tr>\n",
       "      <th>train_lm</th>\n",
       "      <td>88.196933</td>\n",
       "      <td>86.421778</td>\n",
       "      <td>87.404469</td>\n",
       "    </tr>\n",
       "    <tr>\n",
       "      <th>val_lm</th>\n",
       "      <td>91.448650</td>\n",
       "      <td>91.171099</td>\n",
       "      <td>90.826698</td>\n",
       "    </tr>\n",
       "    <tr>\n",
       "      <th>test_lm</th>\n",
       "      <td>91.171174</td>\n",
       "      <td>90.619397</td>\n",
       "      <td>90.596070</td>\n",
       "    </tr>\n",
       "    <tr>\n",
       "      <th>train_recon</th>\n",
       "      <td>69.364796</td>\n",
       "      <td>70.426865</td>\n",
       "      <td>75.931608</td>\n",
       "    </tr>\n",
       "    <tr>\n",
       "      <th>val_recon</th>\n",
       "      <td>71.462821</td>\n",
       "      <td>73.849195</td>\n",
       "      <td>77.297038</td>\n",
       "    </tr>\n",
       "    <tr>\n",
       "      <th>test_recon</th>\n",
       "      <td>71.234604</td>\n",
       "      <td>73.436782</td>\n",
       "      <td>76.982264</td>\n",
       "    </tr>\n",
       "    <tr>\n",
       "      <th>train_selbo</th>\n",
       "      <td>91.644721</td>\n",
       "      <td>91.303252</td>\n",
       "      <td>95.060595</td>\n",
       "    </tr>\n",
       "    <tr>\n",
       "      <th>val_selbo</th>\n",
       "      <td>93.408845</td>\n",
       "      <td>94.495754</td>\n",
       "      <td>96.124573</td>\n",
       "    </tr>\n",
       "    <tr>\n",
       "      <th>test_selbo</th>\n",
       "      <td>93.155600</td>\n",
       "      <td>93.998753</td>\n",
       "      <td>95.752107</td>\n",
       "    </tr>\n",
       "  </tbody>\n",
       "</table>\n",
       "</div>"
      ],
      "text/plain": [
       "                   vae     IW k=3    IW k=10\n",
       "train_lm     88.196933  86.421778  87.404469\n",
       "val_lm       91.448650  91.171099  90.826698\n",
       "test_lm      91.171174  90.619397  90.596070\n",
       "train_recon  69.364796  70.426865  75.931608\n",
       "val_recon    71.462821  73.849195  77.297038\n",
       "test_recon   71.234604  73.436782  76.982264\n",
       "train_selbo  91.644721  91.303252  95.060595\n",
       "val_selbo    93.408845  94.495754  96.124573\n",
       "test_selbo   93.155600  93.998753  95.752107"
      ]
     },
     "execution_count": 29,
     "metadata": {},
     "output_type": "execute_result"
    }
   ],
   "source": [
    "df"
   ]
  },
  {
   "cell_type": "code",
   "execution_count": 30,
   "id": "26173dd2-9a4b-412d-beff-57f02e0b1019",
   "metadata": {},
   "outputs": [],
   "source": [
    "iw_0 = pd.read_csv(\"../outputs/reg/output/iw_cnn_0.csv\").iloc[-1]\n",
    "iw_3 = pd.read_csv(\"../outputs/reg/output/iw_cnn_3.csv\").iloc[-1]\n",
    "iw_10 = pd.read_csv(\"../outputs/reg/output/iw_cnn_10.csv\").iloc[-1]\n",
    "\n",
    "\n",
    "df = pd.DataFrame({'vae': iw_0, 'IW k=3': iw_3, 'IW k=10': iw_10}).iloc[4:-1]\n",
    "\n",
    "df.to_csv('cnn_model.csv')"
   ]
  },
  {
   "cell_type": "code",
   "execution_count": null,
   "id": "5051660d-e422-4ac5-837b-dfb2c2041fcb",
   "metadata": {},
   "outputs": [],
   "source": []
  }
 ],
 "metadata": {
  "kernelspec": {
   "display_name": "Python 3 (ipykernel)",
   "language": "python",
   "name": "python3"
  },
  "language_info": {
   "codemirror_mode": {
    "name": "ipython",
    "version": 3
   },
   "file_extension": ".py",
   "mimetype": "text/x-python",
   "name": "python",
   "nbconvert_exporter": "python",
   "pygments_lexer": "ipython3",
   "version": "3.9.19"
  }
 },
 "nbformat": 4,
 "nbformat_minor": 5
}
